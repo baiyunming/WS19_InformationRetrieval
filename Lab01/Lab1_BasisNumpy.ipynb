{
 "cells": [
  {
   "cell_type": "code",
   "execution_count": 2,
   "metadata": {},
   "outputs": [],
   "source": [
    "import numpy as np"
   ]
  },
  {
   "cell_type": "code",
   "execution_count": 5,
   "metadata": {},
   "outputs": [],
   "source": [
    "n = np.random.rand(8)"
   ]
  },
  {
   "cell_type": "code",
   "execution_count": 6,
   "metadata": {},
   "outputs": [
    {
     "name": "stdout",
     "output_type": "stream",
     "text": [
      "[0.4884323  0.76125091 0.79387671 0.85858456 0.96639785 0.93496948\n",
      " 0.73751528 0.78704589]\n"
     ]
    }
   ],
   "source": [
    "print(n)"
   ]
  },
  {
   "cell_type": "markdown",
   "metadata": {},
   "source": [
    "索引 [Start,End (not included),Jump]"
   ]
  },
  {
   "cell_type": "code",
   "execution_count": null,
   "metadata": {},
   "outputs": [],
   "source": [
    "n_odd = n[1::2]    #index syntax start:end(not included):jup\n",
    "print(n_odd)"
   ]
  },
  {
   "cell_type": "code",
   "execution_count": 8,
   "metadata": {},
   "outputs": [
    {
     "name": "stdout",
     "output_type": "stream",
     "text": [
      "[0.78704589 0.73751528 0.93496948 0.96639785 0.85858456 0.79387671\n",
      " 0.76125091 0.4884323 ]\n"
     ]
    }
   ],
   "source": [
    "n_rev = n[::-1]\n",
    "print(n_rev)"
   ]
  },
  {
   "cell_type": "markdown",
   "metadata": {},
   "source": [
    "对索引矩阵操作，改变原矩阵"
   ]
  },
  {
   "cell_type": "code",
   "execution_count": 9,
   "metadata": {},
   "outputs": [
    {
     "name": "stdout",
     "output_type": "stream",
     "text": [
      "200\n"
     ]
    },
    {
     "data": {
      "text/plain": [
       "array([  1, 200,   3,   4,   5])"
      ]
     },
     "execution_count": 9,
     "metadata": {},
     "output_type": "execute_result"
    }
   ],
   "source": [
    "a = np.array([1,2,3,4,5])\n",
    "b = a[1:4]\n",
    "b[0]=200\n",
    "print(a[1])\n",
    "a"
   ]
  },
  {
   "cell_type": "code",
   "execution_count": 10,
   "metadata": {},
   "outputs": [
    {
     "name": "stdout",
     "output_type": "stream",
     "text": [
      "[[0.70536247 0.08323638 0.42333316 0.42640823]\n",
      " [0.67871533 0.20825858 0.56689248 0.78261989]\n",
      " [0.74063319 0.91470064 0.35296082 0.8731998 ]]\n",
      "(3, 4)\n"
     ]
    }
   ],
   "source": [
    "m = np.random.rand(3,4)\n",
    "print(m)\n",
    "print(m.shape)"
   ]
  },
  {
   "cell_type": "code",
   "execution_count": 11,
   "metadata": {},
   "outputs": [
    {
     "name": "stdout",
     "output_type": "stream",
     "text": [
      "[[0.42640823 0.42333316 0.08323638 0.70536247]\n",
      " [0.78261989 0.56689248 0.20825858 0.67871533]\n",
      " [0.8731998  0.35296082 0.91470064 0.74063319]]\n"
     ]
    }
   ],
   "source": [
    "m_revrowel = m[:,::-1] #all rows, reverse column \n",
    "print(m_revrowel)"
   ]
  },
  {
   "cell_type": "code",
   "execution_count": 12,
   "metadata": {},
   "outputs": [
    {
     "name": "stdout",
     "output_type": "stream",
     "text": [
      "[[0.8731998  0.35296082 0.91470064 0.74063319]\n",
      " [0.78261989 0.56689248 0.20825858 0.67871533]\n",
      " [0.42640823 0.42333316 0.08323638 0.70536247]]\n"
     ]
    }
   ],
   "source": [
    "m_revall = m[::-1, ::-1]\n",
    "print(m_revall)"
   ]
  },
  {
   "cell_type": "code",
   "execution_count": 13,
   "metadata": {},
   "outputs": [
    {
     "name": "stdout",
     "output_type": "stream",
     "text": [
      "[[0.70536247 0.67871533 0.74063319]\n",
      " [0.08323638 0.20825858 0.91470064]\n",
      " [0.42333316 0.56689248 0.35296082]\n",
      " [0.42640823 0.78261989 0.8731998 ]]\n"
     ]
    }
   ],
   "source": [
    "print(m.T) #transpose"
   ]
  },
  {
   "cell_type": "code",
   "execution_count": 14,
   "metadata": {},
   "outputs": [
    {
     "name": "stdout",
     "output_type": "stream",
     "text": [
      "[[0.70536247 0.08323638 0.42333316 0.42640823]\n",
      " [0.74063319 0.91470064 0.35296082 0.8731998 ]]\n",
      "[[0.70536247 0.42640823]\n",
      " [0.74063319 0.8731998 ]]\n",
      "[[0.70536247 0.42640823]\n",
      " [0.74063319 0.8731998 ]]\n"
     ]
    }
   ],
   "source": [
    "m_cut_temp = m[(0,-1),:]  #first last row\n",
    "print(m_cut_temp)\n",
    "\n",
    "m_cut = m_cut_temp[:,(0,-1)]  #first last column\n",
    "print(m_cut)\n",
    "\n",
    "m_cut_direct = m[(0,-1),:][:,(0,-1)] \n",
    "print (m_cut_direct)"
   ]
  },
  {
   "cell_type": "code",
   "execution_count": 15,
   "metadata": {},
   "outputs": [
    {
     "data": {
      "text/plain": [
       "array([0.70536247, 0.8731998 ])"
      ]
     },
     "execution_count": 15,
     "metadata": {},
     "output_type": "execute_result"
    }
   ],
   "source": [
    "m[[0,-1],[0,-1]]    #2 outputs:(0,0) and (-1,-1)"
   ]
  },
  {
   "cell_type": "code",
   "execution_count": 23,
   "metadata": {},
   "outputs": [
    {
     "name": "stdout",
     "output_type": "stream",
     "text": [
      "[[0.70536247 0.08323638 0.42333316 0.42640823]\n",
      " [0.67871533 0.20825858 0.56689248 0.78261989]\n",
      " [0.74063319 0.91470064 0.35296082 0.8731998 ]]\n"
     ]
    },
    {
     "data": {
      "text/plain": [
       "array([0.42640823])"
      ]
     },
     "execution_count": 23,
     "metadata": {},
     "output_type": "execute_result"
    }
   ],
   "source": [
    "print(m)\n",
    "m[[0],[-1]]"
   ]
  },
  {
   "cell_type": "code",
   "execution_count": 32,
   "metadata": {},
   "outputs": [
    {
     "data": {
      "text/plain": [
       "array([[0.70536247],\n",
       "       [0.8731998 ]])"
      ]
     },
     "execution_count": 32,
     "metadata": {},
     "output_type": "execute_result"
    }
   ],
   "source": [
    "m[[[0],[-1]],[[0],[-1]]]"
   ]
  },
  {
   "cell_type": "code",
   "execution_count": 34,
   "metadata": {},
   "outputs": [
    {
     "name": "stdout",
     "output_type": "stream",
     "text": [
      "[[1 2]\n",
      " [3 4]\n",
      " [5 6]]\n",
      "[1 4 5]\n"
     ]
    }
   ],
   "source": [
    "x = np.array([[1,  2],  [3,  4],  [5,  6]]) \n",
    "y = x[[0,1,2],  [0,1,0]]  \n",
    "print(x)\n",
    "print (y)"
   ]
  },
  {
   "cell_type": "code",
   "execution_count": 36,
   "metadata": {},
   "outputs": [
    {
     "name": "stdout",
     "output_type": "stream",
     "text": [
      "[[1 2 3]\n",
      " [4 5 6]\n",
      " [7 8 9]]\n",
      "[[5 6]\n",
      " [8 9]]\n",
      "[[5 6]\n",
      " [8 9]]\n",
      "[[2 3]\n",
      " [5 6]\n",
      " [8 9]]\n"
     ]
    }
   ],
   "source": [
    "a = np.array([[1,2,3], [4,5,6],[7,8,9]])\n",
    "b = a[1:3, 1:3]     #行1到行2，不包括行3 ； 列1到列2，不包括列3\n",
    "c = a[1:3,[1,2]]\n",
    "d = a[...,1:]      #所有行，列1到最后\n",
    "print(a)\n",
    "print(b)\n",
    "print(c)\n",
    "print(d)"
   ]
  },
  {
   "cell_type": "code",
   "execution_count": 39,
   "metadata": {},
   "outputs": [
    {
     "name": "stdout",
     "output_type": "stream",
     "text": [
      "[[ 0  1  2  3]\n",
      " [ 4  5  6  7]\n",
      " [ 8  9 10 11]\n",
      " [12 13 14 15]\n",
      " [16 17 18 19]\n",
      " [20 21 22 23]\n",
      " [24 25 26 27]\n",
      " [28 29 30 31]]\n",
      "[[16 17 18 19]\n",
      " [ 8  9 10 11]\n",
      " [ 4  5  6  7]\n",
      " [28 29 30 31]]\n"
     ]
    }
   ],
   "source": [
    "x=np.arange(32).reshape((8,4))\n",
    "print(x)                #花式索引根据索引数组的值作为目标数组的某个轴的下标来取值。对于使用一维整型数组作为索引，如果目标是一维数组，那么索引的结果就是对应位置的元素；如果目标是二维数组，那么就是对应下标的行。\n",
    "print (x[[4,2,1,7]])    "
   ]
  },
  {
   "cell_type": "code",
   "execution_count": 53,
   "metadata": {},
   "outputs": [],
   "source": [
    "a = np.array([[1,2,3], [4,5,6]])\n",
    "aa = np.reshape(a, 6)"
   ]
  },
  {
   "cell_type": "code",
   "execution_count": 49,
   "metadata": {},
   "outputs": [
    {
     "name": "stdout",
     "output_type": "stream",
     "text": [
      "[0.8455698  0.13212028 0.29510353 0.49384695 0.75861973]\n",
      "(5,)\n",
      "[0.8455698  0.13212028 0.29510353 0.49384695 0.75861973]\n",
      "1.6389188544396847\n"
     ]
    }
   ],
   "source": [
    "a = np.random.rand(5)               #rank 1 vermeiden \n",
    "print(a)\n",
    "print(a.shape)\n",
    "print(a.T)\n",
    "print(a.dot(a.T))"
   ]
  },
  {
   "cell_type": "code",
   "execution_count": 51,
   "metadata": {},
   "outputs": [
    {
     "name": "stdout",
     "output_type": "stream",
     "text": [
      "[[0.81998239]\n",
      " [0.38882836]\n",
      " [0.50620935]\n",
      " [0.5320402 ]\n",
      " [0.9225436 ]]\n"
     ]
    }
   ],
   "source": [
    "a = np.random.rand(5,1)\n",
    "print(a)"
   ]
  },
  {
   "cell_type": "code",
   "execution_count": 52,
   "metadata": {},
   "outputs": [
    {
     "name": "stdout",
     "output_type": "stream",
     "text": [
      "[[0.63364514 0.59665111 0.81243283 0.17140145 0.05838773]]\n"
     ]
    }
   ],
   "source": [
    "a = np.random.rand(1,5)\n",
    "print(a)"
   ]
  },
  {
   "cell_type": "code",
   "execution_count": 4,
   "metadata": {},
   "outputs": [],
   "source": [
    "a = np.arange(5)"
   ]
  },
  {
   "cell_type": "code",
   "execution_count": 5,
   "metadata": {},
   "outputs": [
    {
     "name": "stdout",
     "output_type": "stream",
     "text": [
      "[0 1 2 3 4]\n"
     ]
    }
   ],
   "source": [
    "print(a)"
   ]
  },
  {
   "cell_type": "code",
   "execution_count": 9,
   "metadata": {},
   "outputs": [
    {
     "name": "stdout",
     "output_type": "stream",
     "text": [
      "[[  1   0   0   0   0]\n",
      " [  1   1   1   1   1]\n",
      " [  1   2   4   8  16]\n",
      " [  1   3   9  27  81]\n",
      " [  1   4  16  64 256]]\n",
      "[[ 0  0  0]\n",
      " [ 1  1  1]\n",
      " [ 2  4  8]\n",
      " [ 3  9 27]\n",
      " [ 4 16 64]]\n"
     ]
    }
   ],
   "source": [
    "b = a[:,None]**np.arange(1+4)\n",
    "print(b)\n",
    "\n",
    "c = a[:,None]**np.arange(1,4,1)\n",
    "print(c)"
   ]
  },
  {
   "cell_type": "code",
   "execution_count": null,
   "metadata": {},
   "outputs": [],
   "source": []
  }
 ],
 "metadata": {
  "kernelspec": {
   "display_name": "Python 3",
   "language": "python",
   "name": "python3"
  },
  "language_info": {
   "codemirror_mode": {
    "name": "ipython",
    "version": 3
   },
   "file_extension": ".py",
   "mimetype": "text/x-python",
   "name": "python",
   "nbconvert_exporter": "python",
   "pygments_lexer": "ipython3",
   "version": "3.6.5"
  }
 },
 "nbformat": 4,
 "nbformat_minor": 2
}
