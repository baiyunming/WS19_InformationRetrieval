{
 "cells": [
  {
   "cell_type": "markdown",
   "metadata": {},
   "source": [
    "# Assignment 1"
   ]
  },
  {
   "cell_type": "markdown",
   "metadata": {},
   "source": [
    "# Task 1"
   ]
  },
  {
   "cell_type": "markdown",
   "metadata": {},
   "source": [
    "Let\n",
    "$C_d = \\{\\textrm{x}\\in \\mathbb{R}^p|\\Arrowvert\\textrm{x}\\Arrowvert_\\infty \\leq \\frac{d}{2}  \\} $\n",
    "denote the $p$-dimensional hypercube of edge length $d$, centered at the origin.\n"
   ]
  },
  {
   "cell_type": "markdown",
   "metadata": {},
   "source": [
    "* Assume $X$ to be uniformly distributed in $C_1$. \n",
    "Determine $d$ in dependence of $p$\n",
    "and $q \\in[0,1]$,\n",
    "such that\n",
    "$$\\textrm{Pr}(X \\in C_d) = q$$\n",
    "holds."
   ]
  },
  {
   "cell_type": "markdown",
   "metadata": {},
   "source": [
    "\n",
    "The size of $V_{C_1}$: $1^p = 1$.\n",
    "\n",
    "The size of $V_{C_d}$: $d^p$.\n",
    "\n",
    "$\\textrm{Pr}(x\\in C_d) = \\frac{V_{C_d}}{V_{C_1}} = q$\n",
    "\n",
    "$d = q^{1/p}$"
   ]
  },
  {
   "cell_type": "markdown",
   "metadata": {},
   "source": [
    "* Let the components of the $p$-dimensional random variable $X^p$ be independent and have the standard normal distribution. It is known that \n",
    "$\\textrm{Pr}(|X^1|_\\infty\\leq2.576) = 0.99$.\n",
    "For an arbitrary $p$, determine the probability \n",
    "$\\textrm{Pr}(\\Arrowvert X^p\\Arrowvert_\\infty>2.576)$\n",
    "for any of the components of $X^p$ to lie outside of the interval [-2.576, 2,576]. Evaluate the value for $p = 2$, $p = 3$ and $p = 500$.\n"
   ]
  },
  {
   "cell_type": "markdown",
   "metadata": {},
   "source": [
    "\n",
    "$\\textrm{Pr}(\\Arrowvert X^1 \\Arrowvert _ \\infty > 2.576) = 0.01$\n",
    "\n",
    "$\\textrm{Pr}(\\Arrowvert X^p \\Arrowvert _ \\infty > 2.576) =1 - \\textrm{Pr}(\\Arrowvert X^1 \\Arrowvert _ \\infty \\leq 2.576)^p = 1 - 0.99^p$\n",
    "\n",
    "$p$ = 2, value is $0.0199$\n",
    "\n",
    "$p$ = 3, value is $0.029701$\n",
    "\n",
    "$p$ = 500, value is $0.99343$"
   ]
  },
  {
   "cell_type": "markdown",
   "metadata": {},
   "source": [
    "# Task 2"
   ]
  },
  {
   "cell_type": "markdown",
   "metadata": {},
   "source": [
    "- Sample 100 uniformly distributed random vectors from the box $[−1,1]^d$ for $d = 2$. \n"
   ]
  },
  {
   "cell_type": "code",
   "execution_count": 1,
   "metadata": {},
   "outputs": [],
   "source": [
    "# import required libraries\n",
    "import numpy as np\n",
    "# generate 100 uniformly distributed random vectors between -1 and 1 with 2 dimensions\n",
    "sample = np.random.uniform(-1,1,size=(2,100))"
   ]
  },
  {
   "cell_type": "markdown",
   "metadata": {},
   "source": [
    "- For each of the 100 vectors determine the minimum angle to all other vectors. Then compute the average of these minimum angles. Note that for two vectors x, y the cosine of the angle between the two vectors is deﬁned as $$cos(\\angle(x,y)) = \\frac{\\left< x,y \\right>}{\\Vert x \\Vert \\Vert y \\Vert}$$"
   ]
  },
  {
   "cell_type": "code",
   "execution_count": 5,
   "metadata": {},
   "outputs": [
    {
     "name": "stdout",
     "output_type": "stream",
     "text": [
      "1.8414961543393975\n"
     ]
    }
   ],
   "source": [
    "# import required libraries\n",
    "import numpy as np\n",
    "# generate 100 uniformly distributed random vectors between -1 and 1 with 2 dimensions\n",
    "sample = np.random.uniform(-1,1,size=(2,100))\n",
    "# normalize all the vectors to norm 1\n",
    "for i in range(100):\n",
    "    sample[:,i] = sample[:,i]/np.linalg.norm(sample[:,i]);\n",
    "# get the dot product of each vector with other vectors, that is also the cos value \n",
    "cos_value = np.matmul(sample.T,sample)\n",
    "# Because the type of value is float, the dot product may cause some unwanted data (such as 1.00000000002), we must modify them\n",
    "cos_value = np.clip(cos_value,-1,1)\n",
    "# get the angle from cos value\n",
    "a = np.arccos(cos_value)\n",
    "# we don't need the angle of a vector with itself (it must be minimum angle), so we set it to a very large value\n",
    "for i in range(100):\n",
    "    a[i,i] = 100\n",
    "# get minimum angle of each vector with other vectors\n",
    "min_angle = np.min(a,axis = 0)    \n",
    "# calculate the average minimum angle  \n",
    "mean_min_angle = np.mean(min_angle)*180/np.pi\n",
    "print(mean_min_angle)"
   ]
  },
  {
   "cell_type": "markdown",
   "metadata": {},
   "source": [
    "- Repeat the above for dimensions $d = 1,...,1000$ and use the results to plot the average minimum angle against the dimension."
   ]
  },
  {
   "cell_type": "code",
   "execution_count": 3,
   "metadata": {},
   "outputs": [
    {
     "data": {
      "text/plain": [
       "[<matplotlib.lines.Line2D at 0x16cf36c69c8>]"
      ]
     },
     "execution_count": 3,
     "metadata": {},
     "output_type": "execute_result"
    },
    {
     "data": {
      "image/png": "[encoded data removed]",
      "text/plain": [
       "<Figure size 432x288 with 1 Axes>"
      ]
     },
     "metadata": {
      "needs_background": "light"
     },
     "output_type": "display_data"
    }
   ],
   "source": [
    "# import required libraries\n",
    "import numpy as np\n",
    "import matplotlib.pyplot as plt\n",
    "%matplotlib inline\n",
    "# create an array to save the average minimum angle for different dimensions\n",
    "mean_min_angle = np.zeros((1,1000))\n",
    "for d in range(1,1001):\n",
    "    sample = np.random.uniform(-1,1,size=(d,100))\n",
    "    # normalize all the vectors to norm 1\n",
    "    for i in range(100):\n",
    "        sample[:,i] = sample[:,i]/np.linalg.norm(sample[:,i]);\n",
    "    # get the dot product of each vector with other vectors, that is also the cos value \n",
    "    cos_value = np.matmul(sample.T,sample)\n",
    "    # Because the type of value is float, the dot product may cause some unwanted data (such as 1.00000000002), we must modify them\n",
    "    cos_value = np.clip(cos_value,-1,1)\n",
    "    # get the angle from cos value\n",
    "    a = np.arccos(cos_value)\n",
    "    # we don't need the angle of a vector with itself (it must be minimum angle), so we set it to a very large value\n",
    "    for i in range(100):\n",
    "        a[i,i] = 100\n",
    "    # get minimum angle of each vector with other vectors\n",
    "    min_angle = np.min(a,axis = 0)   \n",
    "    # save the average minimum angle for dimension d\n",
    "    mean_min_angle[0,d-1] = np.mean(min_angle)*180/np.pi\n",
    "# plot the average minimum angle against the dimension\n",
    "dim = np.arange(1,1001,1)\n",
    "plt.plot(dim,mean_min_angle[0])"
   ]
  },
  {
   "cell_type": "markdown",
   "metadata": {},
   "source": [
    "- Give an interpretation of the result. What conclusions can you draw for 2 randomly sampled vectors in a d-dimensional space?"
   ]
  },
  {
   "cell_type": "markdown",
   "metadata": {},
   "source": [
    "With the increase of dimension, the average minimum angle increases. The larger the dimension is, the samller the growth rate of average minimum angle is.\n"
   ]
  },
  {
   "cell_type": "markdown",
   "metadata": {},
   "source": [
    "- Does the result change if the sample size increases?"
   ]
  },
  {
   "cell_type": "markdown",
   "metadata": {},
   "source": [
    "Yes."
   ]
  },
  {
   "cell_type": "markdown",
   "metadata": {},
   "source": [
    "# Task 3"
   ]
  },
  {
   "cell_type": "markdown",
   "metadata": {},
   "source": [
    "- The numbers in Figure 1 show the probability of the respective event to happen (e.g. the probability for the event $X = 1$ and $Y = 1$ is $0.02$). Is this table a probability table? If so, why?"
   ]
  },
  {
   "cell_type": "markdown",
   "metadata": {},
   "source": [
    "Yes.\\\n",
    "Because $P(X) = P(X=1|Y)+P(X=2|Y) = 0.41+0.59 = 1$ and $P(Y) = P(Y=1|X)+P(Y=2|X)+P(Y=3|X) = 1.$"
   ]
  },
  {
   "cell_type": "markdown",
   "metadata": {},
   "source": [
    "- Based on Figure 1 give the conditional expectation $E_{Y|X=2}[Y]$ and the probability of the event $X = 1$ under the condition that $Y = 3$."
   ]
  },
  {
   "cell_type": "markdown",
   "metadata": {},
   "source": [
    "$E_{Y|X=2}[Y] = \\sum\\limits_{i=1}^{3} i \\cdot P(Y=i|X=2)= 1 \\times \\frac{0.4}{0.59} + 2 \\times \\frac{0.14}{0.59} + 3 \\times \\frac{0.05}{0.59} = 1.407$ \\\n",
    "$P(X=1|Y=3) = \\frac{P(X=1,Y=3)}{P(Y=3)} = 0.13 \\div (0.05+0.13) = 0.722$"
   ]
  },
  {
   "cell_type": "markdown",
   "metadata": {},
   "source": [
    "- Is the function $p(x;y)$ given by \n",
    "$$p(x, y) = \\begin{cases}\n",
    "1 & for\\ 0 \\leq x \\leq 1, 0 \\leq y \\leq \\frac{1}{2}\\\\\n",
    "0 & otherwise\n",
    "\\end{cases}$$\n",
    "a joint density function for two random variables?"
   ]
  },
  {
   "cell_type": "markdown",
   "metadata": {},
   "source": [
    "No.\\\n",
    "Because $\\int_{-\\infty}^{+\\infty} p(x,y)dxdy=\\int_0^1 \\int_0^\\frac{1}{2} 1dxdy\\ = 0.5 \\not= 1.$"
   ]
  },
  {
   "cell_type": "markdown",
   "metadata": {},
   "source": [
    "- For two random variables $X$ and $Y$ the joint density function is given by\n",
    "$$p(x, y) = \\begin{cases}\n",
    "2e^{-(x+y)} & for\\ 0 \\leq x \\leq y, 0 \\leq y\\\\\n",
    "0 & otherwise\n",
    "\\end{cases}$$\n",
    "What are the marginal density functions for $X$ and $Y$ respectively?"
   ]
  },
  {
   "cell_type": "markdown",
   "metadata": {},
   "source": [
    "\n",
    "$\\begin {align*}\n",
    "p(x) &= \\int_{-\\infty}^{+\\infty} p(x,y) dy \\\\\n",
    "&= \\int_x^{+\\infty} 2e^{-(x+y)} dy \\\\\n",
    "&= 2e^{-2x} & (x \\geq 0)\n",
    "\\end{align*}\n",
    "$\n",
    "$\\begin {align*}\n",
    "p(y) &= \\int_{-\\infty}^{+\\infty} p(x,y) dx \\\\\n",
    "&= \\int_0^y 2e^{-(x+y)} dx \\\\\n",
    "&= 2e^{-y}(1-e^{-y}) & (y \\geq 0)\n",
    "\\end{align*}\n",
    "$"
   ]
  },
  {
   "cell_type": "markdown",
   "metadata": {},
   "source": [
    "- Let the joint density function of two random variables $X$ and $Y$ be given by\n",
    "$$p(x, y) = \\begin{cases}\n",
    "\\frac{1}{15}(2x+4y) & for\\ 0 < x < 3, 0 < y < 1\\\\\n",
    "0 & otherwise\n",
    "\\end{cases}$$\n",
    "Determine the probability for $X \\leq 2$ under the condition that $Y = \\frac{1}{2}$."
   ]
  },
  {
   "cell_type": "markdown",
   "metadata": {},
   "source": [
    "\n",
    "$p(y) = \\int_0^3 \\frac{1}{15}(2x+4y) dx = \\frac{1}{5}(3+4y)\\\\\n",
    "p(x|y) = \\frac{p(x,y)}{p(y)} = \\frac{1}{3} \\cdot \\frac{2x+4y}{3+4y}\\\\\n",
    "P(X \\leq 2|Y=\\frac{1}{2}) = \\int_0^2 \\frac{2}{15}(x+1) dx = \\frac{8}{15} = 0.53$"
   ]
  },
  {
   "cell_type": "markdown",
   "metadata": {},
   "source": [
    "# Task 4"
   ]
  },
  {
   "cell_type": "markdown",
   "metadata": {},
   "source": [
    "Show that the covariance matrix \n",
    "$\\textrm{C}$ \n",
    "of any random variable \n",
    "$X \\in \\mathbb{R}^p$\n",
    "is symmetric positive semidefinite, i.e. \n",
    "$\\textrm{C = C}^\\top$ \n",
    "and \n",
    "$\\textrm{x}^\\top\\textrm{Cx}\\ge0$ \n",
    "for any covariance matrix \n",
    "$C \\in \\mathbb{R}^{p\\times{p}}$\n",
    "and any\n",
    "$\\textrm x \\in \\mathbb{R}^p$.\n"
   ]
  },
  {
   "cell_type": "markdown",
   "metadata": {},
   "source": [
    "\n",
    "$\n",
    "\\textrm C^\\top \n",
    "= E\\left[(X-\\mu)(X-\\mu)^\\top\\right]^\\top \n",
    "= E\\left[\\left((X-\\mu)(X-\\mu)^\\top\\right)^\\top\\right]\n",
    "= E\\left[(X-\\mu)(X-\\mu)^\\top\\right]\n",
    "= \\textrm C\n",
    "$\n",
    "\n",
    "$\\textrm{x}^\\top\\textrm{Cx} \n",
    "= \\textrm{x}^\\top E\\left[(X-\\mu)(X-\\mu)^\\top\\right]\\textrm{x} \n",
    "= E\\left[\\textrm{x}^\\top (X-\\mu)(X-\\mu)^\\top\\textrm{x}\\right]  \n",
    "= E\\left[\\left((X-\\mu)^\\top \\textrm{x}\\right)^\\top \\left((X-\\mu)^\\top \\textrm{x}\\right)\\right] \n",
    "= E\\left[\\Arrowvert (X-\\mu)^\\top \\textrm{x}\\Arrowvert ^2 \\right] \\ge0\n",
    "$ "
   ]
  },
  {
   "cell_type": "markdown",
   "metadata": {},
   "source": []
  }
 ],
 "metadata": {
  "kernelspec": {
   "display_name": "Python 3",
   "language": "python",
   "name": "python3"
  },
  "language_info": {
   "codemirror_mode": {
    "name": "ipython",
    "version": 3
   },
   "file_extension": ".py",
   "mimetype": "text/x-python",
   "name": "python",
   "nbconvert_exporter": "python",
   "pygments_lexer": "ipython3",
   "version": "3.6.5"
  }
 },
 "nbformat": 4,
 "nbformat_minor": 2
}
