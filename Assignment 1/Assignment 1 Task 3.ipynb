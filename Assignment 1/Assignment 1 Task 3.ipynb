{
 "cells": [
  {
   "cell_type": "code",
   "execution_count": 44,
   "metadata": {},
   "outputs": [
    {
     "name": "stdout",
     "output_type": "stream",
     "text": [
      "[[2]\n",
      " [1]]\n",
      "[[1]\n",
      " [2]\n",
      " [3]]\n",
      "[[0.4  0.14 0.05]\n",
      " [0.02 0.26 0.13]]\n"
     ]
    }
   ],
   "source": [
    "import numpy as np\n",
    "x = np.array([[2],[1]])\n",
    "y = np.array([[1],[2],[3]])\n",
    "prob = np.array([[0.4,0.14,0.05],[0.02,0.26,0.13]])\n",
    "print(x)\n",
    "print(y)\n",
    "print(prob)"
   ]
  },
  {
   "cell_type": "code",
   "execution_count": 45,
   "metadata": {},
   "outputs": [
    {
     "name": "stdout",
     "output_type": "stream",
     "text": [
      "total probability ist 1.0\n"
     ]
    }
   ],
   "source": [
    "probSum =np.sum(prob)\n",
    "print('total probability ist', probSum)"
   ]
  },
  {
   "cell_type": "code",
   "execution_count": 42,
   "metadata": {},
   "outputs": [
    {
     "name": "stdout",
     "output_type": "stream",
     "text": [
      "x marginal probalility [0.59 0.41]\n",
      "x marginal probalility [0.42 0.4  0.18]\n",
      "y probalility under condition x = 2 is [0.6779661  0.23728814 0.08474576]\n",
      "y expectation under condition x = 2 is [1.40677966]\n"
     ]
    }
   ],
   "source": [
    "xProb = np.sum(p,axis=1)\n",
    "yProb = np.sum(p,axis=0)\n",
    "print('x marginal probalility',xProb)\n",
    "print('y marginal probalility',yProb)\n",
    "\n",
    "yProbXequals2 = p[0]/xProb[0]\n",
    "print('y probalility under condition x = 2 is',yProbXequals2)\n",
    "\n",
    "EyXequals2 = np.dot(yProbXequals2,y)\n",
    "print('y expectation under condition x = 2 is', EyXequals2)"
   ]
  },
  {
   "cell_type": "code",
   "execution_count": 49,
   "metadata": {},
   "outputs": [
    {
     "name": "stdout",
     "output_type": "stream",
     "text": [
      "x=1 under condition y = 3 is 0.7222222222222223\n"
     ]
    }
   ],
   "source": [
    "x1ProbYequals3 = prob[1][2]/yProbability[2]\n",
    "print('x=1 under condition y = 3 is', x1ProbYequals3)"
   ]
  },
  {
   "cell_type": "code",
   "execution_count": 56,
   "metadata": {},
   "outputs": [
    {
     "name": "stdout",
     "output_type": "stream",
     "text": [
      "total probability ist 0.5\n"
     ]
    }
   ],
   "source": [
    "from scipy import integrate\n",
    "def f1(x, y):\n",
    "    return 1\n",
    "v, err = integrate.dblquad(f1, 0, 1, 0, 0.5)\n",
    "print('total probability ist', v)"
   ]
  },
  {
   "cell_type": "code",
   "execution_count": 61,
   "metadata": {},
   "outputs": [
    {
     "name": "stdout",
     "output_type": "stream",
     "text": [
      "0.5333333333333334\n"
     ]
    }
   ],
   "source": [
    "def f3(x):\n",
    "    return (2*x+4*0.5)/15\n",
    "v1, err = integrate.quad(f3, 0, 2)\n",
    "print(v)"
   ]
  },
  {
   "cell_type": "code",
   "execution_count": 62,
   "metadata": {},
   "outputs": [
    {
     "name": "stdout",
     "output_type": "stream",
     "text": [
      "1.0\n"
     ]
    }
   ],
   "source": [
    "def f3(x):\n",
    "    return (2*x+4*0.5)/15\n",
    "v2, err = integrate.quad(f3, 0, 3)\n",
    "print(v2)"
   ]
  },
  {
   "cell_type": "code",
   "execution_count": null,
   "metadata": {},
   "outputs": [],
   "source": []
  }
 ],
 "metadata": {
  "kernelspec": {
   "display_name": "Python 3",
   "language": "python",
   "name": "python3"
  },
  "language_info": {
   "codemirror_mode": {
    "name": "ipython",
    "version": 3
   },
   "file_extension": ".py",
   "mimetype": "text/x-python",
   "name": "python",
   "nbconvert_exporter": "python",
   "pygments_lexer": "ipython3",
   "version": "3.6.5"
  }
 },
 "nbformat": 4,
 "nbformat_minor": 2
}
