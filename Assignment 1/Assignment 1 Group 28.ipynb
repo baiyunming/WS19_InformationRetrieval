{
 "cells": [
  {
   "cell_type": "markdown",
   "metadata": {},
   "source": [
    "# Assignment 1 \n"
   ]
  },
  {
   "cell_type": "code",
   "execution_count": 1,
   "metadata": {},
   "outputs": [],
   "source": [
    "import torch"
   ]
  },
  {
   "cell_type": "markdown",
   "metadata": {},
   "source": [
    "## Task 1\n",
    "### Problem 1\n",
    "X is uniformly distributed in $C^1$\n",
    "$$C^1=\\{x∈R^p |‖x‖_∞≤1/2\\}$$\n",
    "$$Pr⁡(X∈C_d )=q$$\n",
    "when $d<1$\n",
    "$$Pr⁡(X∈C_d )=d^p=q$$\n",
    "when $d≥1$\n",
    "X must be distributed in C_d\n",
    "$$Pr⁡(X∈C_d )=1=q$$"
   ]
  },
  {
   "cell_type": "markdown",
   "metadata": {},
   "source": [
    "### Problem 2\n",
    "because $Pr⁡(|X^1|_∞≤2.576)=0.99$ and the components of $X^p$ is independent\n",
    "\n",
    "when all components lie inside of the interval [-2.576,2.576]\n",
    "\n",
    "the probability is $0.99^p$\n",
    "\n",
    "so $$Pr⁡(‖X^p‖_∞＞2.576)=1-0.99^p$$\n",
    "when p=2$$Pr⁡(‖X^2‖_∞＞2.576)=0.0199$$\n",
    "when p=3$$Pr⁡(‖X^3‖_∞＞2.576)=0.029701$$\n",
    "when p=500$$Pr⁡(‖X^{500}‖_∞＞2.576)=0.99343$$\n"
   ]
  },
  {
   "cell_type": "markdown",
   "metadata": {},
   "source": [
    "## Task 2"
   ]
  },
  {
   "cell_type": "code",
   "execution_count": 30,
   "metadata": {},
   "outputs": [],
   "source": [
    "import numpy as np\n",
    "import math\n",
    "from matplotlib import pyplot as plt\n",
    "\n",
    "## generate 100 uniformly distributed random vectors between -1 and 1 with 2 dimensions\n",
    "Samples = np.random.uniform(-1,1,size=(100,2))"
   ]
  },
  {
   "cell_type": "code",
   "execution_count": 2,
   "metadata": {},
   "outputs": [
    {
     "name": "stdout",
     "output_type": "stream",
     "text": [
      "(100, 2)\n",
      "(100, 100)\n"
     ]
    }
   ],
   "source": [
    "#compute the inneproduct between each two random vectors, including innenproduct between each vector and itself, which are on the diadonal of matrix Innenproduct\n",
    "InnerProduct = np.dot(Samples,Samples.T)\n",
    "print(Samples.shape)\n",
    "print(InnerProduct.shape)"
   ]
  },
  {
   "cell_type": "code",
   "execution_count": 3,
   "metadata": {
    "scrolled": true
   },
   "outputs": [],
   "source": [
    "#compute the norm of each random vector\n",
    "Norm = np.linalg.norm(Samples,axis=1)\n",
    "Norm = Norm[:,None]"
   ]
  },
  {
   "cell_type": "code",
   "execution_count": 4,
   "metadata": {},
   "outputs": [],
   "source": [
    "#the Norm_Matrix consisit of the multiplication result between the norm of every two random vectors,including suqared norm each vector, which are on the diadonal of matrix Innenproduct\n",
    "Norm_Matrix = np.dot(Norm,Norm.T) "
   ]
  },
  {
   "cell_type": "code",
   "execution_count": 5,
   "metadata": {},
   "outputs": [
    {
     "name": "stdout",
     "output_type": "stream",
     "text": [
      "(100, 100)\n"
     ]
    }
   ],
   "source": [
    "#according to the given formula, the cosine of angular between two vecotrs equals Innenproduct over the norm of two vectors \n",
    "#the diagonal of matrix Cosine is the angular between each vector and itself, which should be excluded by filling the diagonal with -1, which indicates the biggest possible angular (180 Degree) \n",
    "Cosine = InnerProduct/Norm_Matrix\n",
    "np.fill_diagonal(Cosine, -1)\n",
    "print(Cosine.shape)"
   ]
  },
  {
   "cell_type": "code",
   "execution_count": 6,
   "metadata": {},
   "outputs": [],
   "source": [
    "#finde the biggest Cosine of each row, which indicates the smallest angular between the vector and all other random vectors\n",
    "maxCosine = np.amax(Cosine,axis=1)"
   ]
  },
  {
   "cell_type": "code",
   "execution_count": 7,
   "metadata": {},
   "outputs": [],
   "source": [
    "#use arccos to find the corresponding minimal angular\n",
    "minAngular = np.arccos(maxCosine)"
   ]
  },
  {
   "cell_type": "code",
   "execution_count": 19,
   "metadata": {},
   "outputs": [
    {
     "name": "stdout",
     "output_type": "stream",
     "text": [
      "the minimum angle to all other vectors is 1.829005692581908 Degree\n"
     ]
    }
   ],
   "source": [
    "# calculate the mean of all minimal angulars,convert radian into degree and print the output \n",
    "MinAngularRadian = np.mean(minAngular)\n",
    "MinAngularDegree = math.degrees(MinAngularRadian)\n",
    "print('the minimum angle to all other vectors is {} Degree'.format(MinAngularDegree))"
   ]
  },
  {
   "cell_type": "markdown",
   "metadata": {},
   "source": [
    "- Repeat the above for dimensions $d = 1,...,1000$ and use the results to plot the average minimum angle against the dimension."
   ]
  },
  {
   "cell_type": "code",
   "execution_count": 15,
   "metadata": {},
   "outputs": [],
   "source": [
    "#define function getminAngular, input parameter: d dimension of random vectors, output: the minimal angular \n",
    "def getminAngular (d):\n",
    "    Samples = np.random.uniform(-1,1,size=(100,d))\n",
    "    InnerProduct = np.dot(Samples,Samples.T)\n",
    "    #Modulus = np.sqrt(np.sum(Samples**2,axis=1))\n",
    "    Norm = np.linalg.norm(Samples,axis=1)\n",
    "    Norm = Norm[:,None]\n",
    "    Norm_Matrix = np.dot(Norm,Norm.T)\n",
    "    Cosine = InnerProduct/Norm_Matrix\n",
    "    np.fill_diagonal(Cosine, -1)\n",
    "    maxCosine = np.amax(Cosine,axis=1)\n",
    "    minAngular = np.arccos(maxCosine)\n",
    "    MinAngularRadian = np.mean(minAngular)\n",
    "    MinAngularDegree = math.degrees(MinAngularRadian)\n",
    "    return MinAngularDegree"
   ]
  },
  {
   "cell_type": "code",
   "execution_count": 16,
   "metadata": {},
   "outputs": [],
   "source": [
    "p = np.arange(1,1001)\n",
    "result = np.zeros(1000)\n",
    "for i in range(1,1001):\n",
    "     result[i-1] = getminAngular(i)"
   ]
  },
  {
   "cell_type": "code",
   "execution_count": 17,
   "metadata": {},
   "outputs": [
    {
     "data": {
      "text/plain": [
       "Text(0.5, 1.0, 'minimal angular against dimension')"
      ]
     },
     "execution_count": 17,
     "metadata": {},
     "output_type": "execute_result"
    },
    {
     "data": {
      "image/png": "[encoded data removed]",
      "text/plain": [
       "<Figure size 432x288 with 1 Axes>"
      ]
     },
     "metadata": {
      "needs_background": "light"
     },
     "output_type": "display_data"
    }
   ],
   "source": [
    "plt.plot(p,result)\n",
    "plt.xlabel('$Dimension$')\n",
    "plt.ylabel('$minAngular(Degree)$')\n",
    "plt.title('minimal angular against dimension')"
   ]
  },
  {
   "cell_type": "markdown",
   "metadata": {},
   "source": [
    "### Conclusion\n",
    "- With the increase of dimension, the average minimal angle increases to almost 90 Degree. When dimension is 100000, the minimal angular is almost 90 Degree, which indicates that in high dimensional space 2 randomly sampled vectors are orthogonal to each other.\n",
    "- With the increase of dimension, the increase speed of minimal angular becomes samller.  "
   ]
  },
  {
   "cell_type": "code",
   "execution_count": 24,
   "metadata": {},
   "outputs": [
    {
     "data": {
      "text/plain": [
       "89.53910018078128"
      ]
     },
     "execution_count": 24,
     "metadata": {},
     "output_type": "execute_result"
    }
   ],
   "source": [
    "getminAngular (100000)"
   ]
  },
  {
   "cell_type": "markdown",
   "metadata": {},
   "source": [
    "The result does not change if the sample size increases"
   ]
  },
  {
   "cell_type": "markdown",
   "metadata": {},
   "source": [
    "## Task 3\n",
    "### Problem 1"
   ]
  },
  {
   "cell_type": "markdown",
   "metadata": {},
   "source": [
    "yes. The sum of the probabilities is$$0.4+0.14+0.05+0.02+0.26+0.13=1$$\n",
    "\n",
    "so it is a probability table."
   ]
  },
  {
   "cell_type": "markdown",
   "metadata": {},
   "source": [
    "### Problem 2\n",
    "$$E_{Y|X=2}[Y] = \\sum\\limits_{i=1}^{3} i \\cdot P(Y=i|X=2)= 1 \\times \\frac{0.4}{0.4+0.14+0.05} + 2 \\times \\frac{0.14}{0.4+0.14+0.05} + 3 \\times \\frac{0.05}{0.4+0.14+0.05} = 1.407$$\n",
    "$$E_(X=1|Y=3) = \\frac{0.13}{0.13+0.05}=0.7222$$"
   ]
  },
  {
   "cell_type": "markdown",
   "metadata": {},
   "source": [
    "### Problem 3\n",
    "p(x,y)≥0\n",
    "\n",
    "$$∫_{-∞}^∞∫_{-∞}^∞p(x,y)dxdy=∫_0^1dx∫_0^{1/2}dy=0.5$$\n",
    "\n",
    "It is not a joint density function for two random variables."
   ]
  },
  {
   "cell_type": "markdown",
   "metadata": {},
   "source": [
    "### Problem 4\n",
    "$$f_X(x)=∫_{-∞}^∞p(x,y)dy=∫_x^∞2e^{-(x+y)}dy=2e^{-2x}$$ \n",
    "$$f_Y(y)=∫_{-∞}^∞p(x,y)dx=∫_0^y2e^{-(x+y)}dx= 2e^{-y}(1-e^{-y})$$"
   ]
  },
  {
   "cell_type": "markdown",
   "metadata": {},
   "source": [
    "### Problem 5\n",
    "- marginal density function for y \n",
    "<br> $p(y) = \\int_0^3 \\frac{1}{15}(2x+4y) dx = \\frac{1}{5}(3+4y)$\n",
    "- Conditional Probability density function (x under condition y)\n",
    "<br> $p(x|y) = \\frac{p(x,y)}{p(y)} = \\frac{\\frac{1}{15}(2x+4y)}{\\frac{1}{5}(3+4y)}=\\frac{1}{3} \\cdot \\frac{2x+4y}{3+4y}$\n",
    "<br>$P(X \\leq 2|Y=\\frac{1}{2}) = \\int_0^2 \\frac{2}{15}(x+1) dx = \\frac{8}{15}$"
   ]
  },
  {
   "cell_type": "markdown",
   "metadata": {},
   "source": [
    "## Task 4\n",
    "- symmetric\n",
    "<br> $C=E[(X-μ)(X-μ)^T]$\n",
    "<br> $C^T=E[(X-μ)(X-μ)^T]^T=E[((X-μ)(X-μ)^T)^T]=E[(X-μ)(X-μ)^T]$\n",
    "<br> $C=C^T$\n",
    "\n",
    "- positive semidefinite\n",
    "<br> $x^TCx=x^TE[(X-μ)(X-μ)^T]x=E[x^T(X-μ)(X-μ)^Tx]=E[((X-μ)^Tx)^T((X-μ)^Tx)]=E(‖(X-μ)^Tx‖^2)≥0$"
   ]
  },
  {
   "cell_type": "code",
   "execution_count": null,
   "metadata": {},
   "outputs": [],
   "source": []
  }
 ],
 "metadata": {
  "kernelspec": {
   "display_name": "Python 3",
   "language": "python",
   "name": "python3"
  },
  "language_info": {
   "codemirror_mode": {
    "name": "ipython",
    "version": 3
   },
   "file_extension": ".py",
   "mimetype": "text/x-python",
   "name": "python",
   "nbconvert_exporter": "python",
   "pygments_lexer": "ipython3",
   "version": "3.7.3"
  }
 },
 "nbformat": 4,
 "nbformat_minor": 2
}
