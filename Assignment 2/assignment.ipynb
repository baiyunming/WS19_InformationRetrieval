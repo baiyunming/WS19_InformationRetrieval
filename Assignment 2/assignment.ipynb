{
 "cells": [
  {
   "cell_type": "markdown",
   "metadata": {},
   "source": [
    "(1)\n",
    "\n",
    "$s^TΣΣ^Ts=$\n",
    "$[s_1,s_2\\cdots,s_p]$\n",
    "$\\left[\\begin{array}{cccc}\n",
    "\\sigma_1&\\cdots&0\\\\\n",
    " &\\ddots& \\\\\n",
    "0&\\cdots&\\sigma_p\n",
    "\\end{array}\\right]$\n",
    "$\\left[\\begin{array}{cccc}\n",
    "\\sigma_1&\\cdots&0\\\\\n",
    " &\\ddots& \\\\\n",
    "0&\\cdots&\\sigma_p\n",
    "\\end{array}\\right]$\n",
    "$\\left[\\begin{array}{cccc}\n",
    "s_1\\\\\n",
    "\\vdots\\\\\n",
    "s_p\n",
    "\\end{array}\\right]$\n",
    "$=s_1^2\\sigma_1^2+\\dots s_p^2\\sigma_p^2$\n",
    "\n",
    "because  $\\sigma_1\\geq \\sigma_2\\geq \\dots \\sigma_p$\n",
    "\n",
    "$s^TΣΣ^Ts\\leq(s_1^2+s_2^2+\\dots+s_p^2)\\sigma_1^2=\\sigma_1^2$\n",
    "\n",
    "only when $s^T=[1,0\\cdots,0]$\n",
    "\n",
    "$s^TΣΣ^Ts=1^2\\sigma_1^2+0\\sigma_2^2+\\dots 0\\sigma_p^2=\\sigma_1^2$\n",
    "\n",
    "$s^TΣΣ^Ts$ has the maximum $\\sigma_1^2$"
   ]
  },
  {
   "cell_type": "markdown",
   "metadata": {},
   "source": [
    "(2)\n",
    "\n",
    "$\\frac{1}{N}a^TXX^Ta=$\n",
    "$\\frac{1}{N}a^TUΣV^TVΣ^TU^Ta=$\n",
    "$\\frac{1}{N}a^TUΣΣ^TU^Ta$\n",
    "\n",
    "let $a=Us$\n",
    "\n",
    "$\\parallel a \\parallel_2=a^Ta=s^TU^TUs=s^Ts=1$\n",
    "\n",
    "so $\\frac{1}{N}a^TUΣΣ^TU^Ta=$\n",
    "$\\frac{1}{N}s^TΣΣ^Ts$\n",
    "\n",
    "when $s^T=[1,0\\cdots,0]$\n",
    "\n",
    "$s^TΣΣ^Ts$ has the maximum\n",
    "\n",
    "use the conclusion in (1)\n",
    "\n",
    "then $a=U$\n",
    "$\\left[\\begin{array}{cccc}\n",
    "1\\\\\n",
    "\\vdots\\\\\n",
    "0\n",
    "\\end{array}\\right]$$=u_1$"
   ]
  },
  {
   "cell_type": "code",
   "execution_count": null,
   "metadata": {},
   "outputs": [],
   "source": []
  }
 ],
 "metadata": {
  "kernelspec": {
   "display_name": "Python 3",
   "language": "python",
   "name": "python3"
  },
  "language_info": {
   "codemirror_mode": {
    "name": "ipython",
    "version": 3
   },
   "file_extension": ".py",
   "mimetype": "text/x-python",
   "name": "python",
   "nbconvert_exporter": "python",
   "pygments_lexer": "ipython3",
   "version": "3.6.5"
  }
 },
 "nbformat": 4,
 "nbformat_minor": 2
}
