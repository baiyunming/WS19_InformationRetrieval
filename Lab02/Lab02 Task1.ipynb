{
 "cells": [
  {
   "cell_type": "markdown",
   "metadata": {},
   "source": [
    "# Statistical Decision Making\n",
    "## Task 1"
   ]
  },
  {
   "cell_type": "markdown",
   "metadata": {},
   "source": [
    "Consider the two-dimensional, discrete random variable $X = [X_1\\ X_2]^\\top$ subjected to the joint probability density $p_X$ as described in the following table.\n",
    "<div style=\"text-align: center\">$\\begin{array}{c|cc} p_X(X_1, X_2)  & X_2 = 0 & X_2 = 1 \\\\ \\hline\\hline X_1 = 0 & 0.4 & 0.3 \\\\ X_1 = 1 & 0.2 & 0.1\\end{array}$</div>   "
   ]
  },
  {
   "cell_type": "markdown",
   "metadata": {},
   "source": [
    "a) Compute the marginal probability densities $p_{X1}, p_{X2}$ and the conditional probability $P(X_2 = 0|X_1 = 0)$ as well as the expected value $\\mathbb{E}[X]$ and the covariance matrix $\\mathbb{E}[(X - \\mathbb{E}[X])(X - \\mathbb{E}[X])^\\top]$ by hand."
   ]
  },
  {
   "cell_type": "code",
   "execution_count": 37,
   "metadata": {},
   "outputs": [],
   "source": [
    "import numpy as np\n",
    "p_table = np.array([[0.4,0.3],[0.2,0.1]])\n",
    "X = np.array([[0,0,1,1],[0,1,0,1]])  #firt:x1  then:x2"
   ]
  },
  {
   "cell_type": "code",
   "execution_count": 38,
   "metadata": {},
   "outputs": [
    {
     "name": "stdout",
     "output_type": "stream",
     "text": [
      "marginal probability x1 is [p(x1=0),p(x1=1)] [0.7 0.3]\n",
      "marginal probability x2 is [p(x2=0),p(x2=1)] [0.6 0.4]\n"
     ]
    }
   ],
   "source": [
    "#marginal probability\n",
    "px1 = np.sum(p_table,axis=1)     #行相加\n",
    "px2 = np.sum(p_table,axis=0)     #列相加\n",
    "print(\"marginal probability x1 is [p(x1=0),p(x1=1)]\",px1)\n",
    "print(\"marginal probability x2 is [p(x2=0),p(x2=1)]\",px2)"
   ]
  },
  {
   "cell_type": "code",
   "execution_count": 39,
   "metadata": {},
   "outputs": [
    {
     "name": "stdout",
     "output_type": "stream",
     "text": [
      "p(x2=0|x1=0)=0.5714285714285715\n"
     ]
    }
   ],
   "source": [
    "#conditional probability\n",
    "px2equals0condx1equals0 = p_table[0][0]/px1[0]\n",
    "print('p(x2=0|x1=0)={}'.format(px2equals0condx1equals0))"
   ]
  },
  {
   "cell_type": "code",
   "execution_count": 40,
   "metadata": {
    "scrolled": true
   },
   "outputs": [
    {
     "name": "stdout",
     "output_type": "stream",
     "text": [
      "[[0.4 0.3 0.2 0.1]]\n",
      "the expectation [Ex1 Ex2] is [[0.3 0.4]]\n"
     ]
    }
   ],
   "source": [
    "#expectation\n",
    "p_jointdis = p_table.reshape(1,4)  #reshape into row vector\n",
    "print(p_jointdis)\n",
    "\n",
    "p_jointdis @ X[0,:] \n",
    "p_jointdis @ X[1,:]\n",
    "Ex = p_jointdis @ X.T\n",
    "print('the expectation [Ex1 Ex2] is {}'.format(Ex))"
   ]
  },
  {
   "cell_type": "markdown",
   "metadata": {},
   "source": [
    "<td bgcolor=orange> reshape or ravel  \n",
    "<br>ravel('C') while keeping row order<br>ravel('F') while keeping column order"
   ]
  },
  {
   "cell_type": "code",
   "execution_count": 41,
   "metadata": {},
   "outputs": [
    {
     "name": "stdout",
     "output_type": "stream",
     "text": [
      "Expected value: [0.3 0.4]\n",
      "(2,)\n",
      "[[0.4 0.3]\n",
      " [0.2 0.1]]\n",
      "[0.4 0.3 0.2 0.1]\n",
      "[0.4 0.2 0.3 0.1]\n"
     ]
    }
   ],
   "source": [
    "#reshape, ravel \n",
    "E_X = np.dot(X, p_table.ravel('C')) # ravel('C') while keeping row order\n",
    "print('Expected value: {}'.format(E_X))\n",
    "print(E_X.shape)\n",
    "print(p_table)\n",
    "print(p_table.ravel('C'))\n",
    "print(p_table.ravel('F'))"
   ]
  },
  {
   "cell_type": "markdown",
   "metadata": {},
   "source": [
    "<td bgcolor=orange> expand_dims is needed so that numpy is able to subtract the vector(2,) from the matrix\n",
    "<br> covariance matrix as quadratic form"
   ]
  },
  {
   "cell_type": "code",
   "execution_count": 42,
   "metadata": {},
   "outputs": [
    {
     "name": "stdout",
     "output_type": "stream",
     "text": [
      "X_centered:\n",
      " [[-0.3 -0.3  0.7  0.7]\n",
      " [-0.4  0.6 -0.4  0.6]]\n",
      "Covariance matrix:\n",
      " [[ 0.21 -0.02]\n",
      " [-0.02  0.24]]\n"
     ]
    }
   ],
   "source": [
    "# covariance matrix\n",
    "#method 1\n",
    "X_centered = X - np.expand_dims(E_X, axis=1) # expand_dims is needed so that numpy is able to subtract the vector (2,) from the matrix\n",
    "\n",
    "#method 2 broadcasting\n",
    "#E_X = E_X[:,None]\n",
    "#print(E_X.shape)\n",
    "#X_centered = X - E_X\n",
    "\n",
    "print(\"X_centered:\\n {}\".format(X_centered))\n",
    "CovX = np.dot(np.dot(X_centered, np.diag(p_table.ravel('C'))), X_centered.T)\n",
    "print('Covariance matrix:\\n {}'.format(CovX))"
   ]
  },
  {
   "cell_type": "code",
   "execution_count": 43,
   "metadata": {},
   "outputs": [
    {
     "name": "stdout",
     "output_type": "stream",
     "text": [
      "[[1 2 3 4]\n",
      " [1 2 3 4]]\n",
      "(2, 4)\n",
      "[[1]\n",
      " [2]]\n",
      "(2, 1)\n",
      "[[ 0  1  2  3]\n",
      " [-1  0  1  2]]\n"
     ]
    }
   ],
   "source": [
    "# broadcasting\n",
    "m = np.array([[1,2,3,4],[1,2,3,4]])\n",
    "print(m)\n",
    "print(m.shape)\n",
    "\n",
    "n = np.array([[1],[2]])\n",
    "print(n)\n",
    "print(n.shape)\n",
    "print(m-n)"
   ]
  },
  {
   "cell_type": "code",
   "execution_count": 44,
   "metadata": {},
   "outputs": [
    {
     "data": {
      "text/plain": [
       "array([[0.4, 0. , 0. , 0. ],\n",
       "       [0. , 0.3, 0. , 0. ],\n",
       "       [0. , 0. , 0.2, 0. ],\n",
       "       [0. , 0. , 0. , 0.1]])"
      ]
     },
     "execution_count": 44,
     "metadata": {},
     "output_type": "execute_result"
    }
   ],
   "source": [
    "np.diag(p_table.ravel('C'))"
   ]
  },
  {
   "cell_type": "markdown",
   "metadata": {},
   "source": [
    "b) Write a PYTHON function `toyrnd` that expects the positive integer parameter `n` as its input and returns a matrix `X` of size `[2,n]`, containing `n` samples drawn independently from the distribution $p_X$, as its output."
   ]
  },
  {
   "cell_type": "code",
   "execution_count": 45,
   "metadata": {},
   "outputs": [],
   "source": [
    "def toyrnd(n):\n",
    "    Samples = np.random.rand(n)\n",
    "    for i in range(0,n):\n",
    "        if Samples[i] > 0.9:\n",
    "            Samples[i] = 3\n",
    "        elif Samples[i]>0.7:\n",
    "            Samples[i] = 2 \n",
    "        elif Samples[i]>0.4:\n",
    "            Samples[i] = 1\n",
    "        else:\n",
    "            Samples[i] = 0\n",
    "    Samples_new = np.array([Samples,Samples])\n",
    "    #print(Samples_new.shape)\n",
    "    Samples_new[0,:]=Samples_new[0,:]//2\n",
    "    Samples_new[1,:]=Samples_new[1,:]%2\n",
    "    return Samples_new"
   ]
  },
  {
   "cell_type": "code",
   "execution_count": 62,
   "metadata": {},
   "outputs": [],
   "source": [
    "def toyrnd2(n):\n",
    "    X_out = np.zeros((2,n))\n",
    "    Q = np.zeros((n,))\n",
    "    T = np.random.rand(n)  #uniformaly distribution \n",
    "     \n",
    "    # Interpreting [x1, x2] as binary number and Q as its decimal representation\n",
    "    Q[T>0.4] = 1\n",
    "    Q[T>0.7] = 2\n",
    "    Q[T>0.9] = 3\n",
    "    \n",
    "    X_out[0] = Q // 2 # floor division\n",
    "    X_out[1] = Q % 2 # modulus division\n",
    "    \n",
    "    return X_out"
   ]
  },
  {
   "cell_type": "markdown",
   "metadata": {},
   "source": [
    "c) Verify your results in a) by generating `10000` samples with `toyrnd` and computing the respective empirical values."
   ]
  },
  {
   "cell_type": "markdown",
   "metadata": {},
   "source": [
    "<td bgcolor=orange>Find the number of desired characteristic\n",
    "    <br>np.sum(X_observed[0,:]==0)"
   ]
  },
  {
   "cell_type": "code",
   "execution_count": 46,
   "metadata": {},
   "outputs": [
    {
     "name": "stdout",
     "output_type": "stream",
     "text": [
      "Empirical marginal probability: [p(x1=0), p(x1=1)] = [0.7013 0.2987]\n",
      "Empirical marginal probability: [p(x2=0), p(x2=1)] = [0.6019 0.3981]\n"
     ]
    }
   ],
   "source": [
    "N = 10000\n",
    "X_observed = toyrnd(N)\n",
    "p_X1equals0_empirical = np.float(np.sum(X_observed[0,:]==0))/N\n",
    "p_X1equals1_empirical = np.float(np.sum(X_observed[0,:]==1))/N\n",
    "p_X2equals0_empirical = np.float(np.sum(X_observed[1,:]==0))/N\n",
    "p_X2equals1_empirical = np.float(np.sum(X_observed[1,:]==1))/N\n",
    "p_x1_empirical = np.array([p_X1equals0_empirical, p_X1equals1_empirical])\n",
    "p_x2_empirical = np.array([p_X2equals0_empirical, p_X2equals1_empirical])\n",
    "print('Empirical marginal probability: [p(x1=0), p(x1=1)] = {}'.format(p_x1_empirical))\n",
    "print('Empirical marginal probability: [p(x2=0), p(x2=1)] = {}'.format(p_x2_empirical))"
   ]
  },
  {
   "cell_type": "code",
   "execution_count": 50,
   "metadata": {},
   "outputs": [
    {
     "name": "stdout",
     "output_type": "stream",
     "text": [
      "Empirical expectation [Ex1,Ex2] = [-2.84217094e-18  1.63424829e-17]\n",
      "(2,)\n"
     ]
    }
   ],
   "source": [
    "E_X_empirical = np.sum(X_observed,axis=1)/10000  #row addition\n",
    "print('Empirical expectation [Ex1,Ex2] = {}'.format(E_X_empirical))\n",
    "print(E_X_empirical.shape)"
   ]
  },
  {
   "cell_type": "code",
   "execution_count": 48,
   "metadata": {},
   "outputs": [
    {
     "name": "stdout",
     "output_type": "stream",
     "text": [
      "\n",
      "Empirical probability: x2=0 under condition x1=0] = 0.5755026379580779\n"
     ]
    }
   ],
   "source": [
    "X2condX1equals0 = X_observed[1,X_observed[0,:]==0]\n",
    "print()\n",
    "X20conX1equals0 = np.float(np.sum(X2condX1equals0==0)/len(X2condX1equals0))\n",
    "print('Empirical probability: x2=0 under condition x1=0] = {}'.format(X20conX1equals0))"
   ]
  },
  {
   "cell_type": "code",
   "execution_count": 49,
   "metadata": {},
   "outputs": [
    {
     "name": "stdout",
     "output_type": "stream",
     "text": [
      "[[ 0.20947831 -0.01851247]\n",
      " [-0.01851247  0.23961639]]\n"
     ]
    }
   ],
   "source": [
    "#X_observed[0,:] = X_observed[0,:] - EX[0]\n",
    "#X_observed[1,:] = X_observed[1,:] - EX[1]\n",
    "\n",
    "X_observed = X_observed - np.expand_dims(E_X_empirical, axis=1)\n",
    "print((X_observed @ X_observed.T)/10000)"
   ]
  }
 ],
 "metadata": {
  "kernelspec": {
   "display_name": "Python 3",
   "language": "python",
   "name": "python3"
  },
  "language_info": {
   "codemirror_mode": {
    "name": "ipython",
    "version": 3
   },
   "file_extension": ".py",
   "mimetype": "text/x-python",
   "name": "python",
   "nbconvert_exporter": "python",
   "pygments_lexer": "ipython3",
   "version": "3.6.5"
  }
 },
 "nbformat": 4,
 "nbformat_minor": 2
}
