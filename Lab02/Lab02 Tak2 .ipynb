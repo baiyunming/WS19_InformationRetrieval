{
 "cells": [
  {
   "cell_type": "markdown",
   "metadata": {},
   "source": [
    "# Statistical Decision Making\n",
    "## Task 2"
   ]
  },
  {
   "cell_type": "markdown",
   "metadata": {},
   "source": [
    "The MNIST training set consists of handwritten digits from 0 to 9, stored as PNG files of size $28 \\times 28$ and indexed by label. Download the provided ZIP file from Moodle and make yourself familiar with the directory structure."
   ]
  },
  {
   "cell_type": "markdown",
   "metadata": {},
   "source": [
    "a) Grayscale images are typically described as matrices of `uint8` values. For numerical calculations, it is more sensible to work with floating point numbers. Load two (abitrary) images from the database and convert them to matrices `I1` and `I2` of `float64` values in the interval $[0, 1]$."
   ]
  },
  {
   "cell_type": "code",
   "execution_count": 11,
   "metadata": {},
   "outputs": [],
   "source": [
    "import numpy as np\n",
    "import imageio\n",
    "data_folder = './mnist/'\n",
    "\n",
    "path1 = data_folder+'d0/d0_0075.png'\n",
    "path2 = data_folder+'d1/d1_0055.png'\n",
    "\n",
    "\n",
    "d0 = imageio.imread(path1).astype(np.float64)  \n",
    "d1 = imageio.imread(path2).astype(np.float64)  "
   ]
  },
  {
   "cell_type": "code",
   "execution_count": 41,
   "metadata": {},
   "outputs": [
    {
     "name": "stdout",
     "output_type": "stream",
     "text": [
      "(28, 28)\n",
      "(28, 28)\n"
     ]
    }
   ],
   "source": [
    "print(d0.shape)\n",
    "print(d1.shape)\n",
    "#print(d0)\n",
    "#print(d1)"
   ]
  },
  {
   "cell_type": "code",
   "execution_count": 13,
   "metadata": {},
   "outputs": [
    {
     "data": {
      "image/png": "[encoded data removed]",
      "text/plain": [
       "<Figure size 432x288 with 1 Axes>"
      ]
     },
     "metadata": {
      "needs_background": "light"
     },
     "output_type": "display_data"
    },
    {
     "data": {
      "image/png": "[encoded data removed]",
      "text/plain": [
       "<Figure size 432x288 with 1 Axes>"
      ]
     },
     "metadata": {
      "needs_background": "light"
     },
     "output_type": "display_data"
    }
   ],
   "source": [
    "import matplotlib.pyplot as plt\n",
    "plt.imshow(d0)\n",
    "plt.show()\n",
    "plt.imshow(d1)\n",
    "plt.show()"
   ]
  },
  {
   "cell_type": "markdown",
   "metadata": {},
   "source": [
    "<td bgcolor=orange> change the matrix into a vector \n",
    "    <br>np.ravel后(784,)\n",
    "    <br>two methods\n",
    "    <br>(1)None/np.newaxis\n",
    "    <br>(2)reshape"
   ]
  },
  {
   "cell_type": "code",
   "execution_count": 39,
   "metadata": {},
   "outputs": [
    {
     "name": "stdout",
     "output_type": "stream",
     "text": [
      "(784,)\n",
      "(784,)\n",
      "(784, 1)\n",
      "(784, 1)\n"
     ]
    }
   ],
   "source": [
    "D0 = np.ravel(d0)\n",
    "D1 = np.ravel(d1)\n",
    "print(D0.shape)\n",
    "print(D1.shape)\n",
    "\n",
    "#D0 = D0.reshape(784,1)\n",
    "#D1 = D1.reshape(784,1)\n",
    "\n",
    "D0 = D0[:,np.newaxis]\n",
    "D1 = D1[:,None]\n",
    "print(D0.shape)\n",
    "print(D1.shape)"
   ]
  },
  {
   "cell_type": "code",
   "execution_count": 40,
   "metadata": {},
   "outputs": [],
   "source": [
    "I0 = D0/255 \n",
    "I1 = D1/255"
   ]
  },
  {
   "cell_type": "markdown",
   "metadata": {},
   "source": [
    "b) The matrix equivalent of the euclidean norm $\\|\\cdot\\|_2$ is the Frobenius norm. For any matrix $\\mathbf{A} \\in \\mathbb{R}^{m \\times n}$, it is defined as\n",
    "\t\t\t\\begin{equation}\n",
    "\t\t\t    \\|\\mathbf{A}\\|_F = \\sqrt{\\mathrm{tr}(\\mathbf{A}^\\top \\mathbf{A})},\n",
    "\t\t\t\\end{equation}\n",
    "\t\t\twhere $\\mathrm{tr}$ denotes the trace of a matrix. Compute the distance $\\|\\mathbf{I}_0 - \\mathbf{I}_1\\|_F$ between the images `I1` and `I2` by using three different procedures in PYTHON:\t\t\t\n",
    "-  Running the `numpy.linalg.norm` function with the `'fro'` parameter\n",
    "-  Directly applying the above equation\n",
    "-  Computing the euclidean norm between the vectorized images"
   ]
  },
  {
   "cell_type": "code",
   "execution_count": 28,
   "metadata": {},
   "outputs": [
    {
     "name": "stdout",
     "output_type": "stream",
     "text": [
      "the Frobenius norm is 12.29615331678367\n"
     ]
    }
   ],
   "source": [
    "N1 = np.linalg.norm(I0-I1,'fro')\n",
    "print('the Frobenius norm is {}'.format(N1))"
   ]
  },
  {
   "cell_type": "code",
   "execution_count": 29,
   "metadata": {},
   "outputs": [
    {
     "name": "stdout",
     "output_type": "stream",
     "text": [
      "the Frobenius norm is 12.29615331678367\n"
     ]
    }
   ],
   "source": [
    "import math \n",
    "N2 = math.sqrt(np.matrix.trace((I0-I1)@(I0-I1).T))\n",
    "print('the Frobenius norm is {}'.format(N2))"
   ]
  },
  {
   "cell_type": "markdown",
   "metadata": {},
   "source": [
    "c) In the following, we want to solve a simple classification problem by applying *$k$-Nearest Neighbours*. To this end, choose two digit classes, e.g. $0$ and $1$, and load `n_train = 500` images from each class to the workspace. Convert them according to subtask a) and store them in vectorized form in the matrix `X_train` of size `[784, 2*n_train]`. Provide an indicator vector `Y_train` of length `2*n_train` that assigns the respective digit class label to each column of `X_train`.\n",
    "\n",
    "From each of the two classes, choose another set of `n_test=10` images and create the according matrices `X_test` and `Y_test`. Now, for each sample in the test set, determine the `k = 20` training samples with the smallest Frobenius distance to it and store their indices in the `2*n_test, k` matrix `NN`. Generate a vector `Y_kNN` containing the respective estimated class labels by performing a majority vote on `NN`. Compare the result with `Y_test`."
   ]
  },
  {
   "cell_type": "markdown",
   "metadata": {},
   "source": [
    "<td bgcolor=orange> for i in range(a,b): from a, b not included "
   ]
  },
  {
   "cell_type": "code",
   "execution_count": 42,
   "metadata": {},
   "outputs": [
    {
     "name": "stdout",
     "output_type": "stream",
     "text": [
      "(784, 1000)\n"
     ]
    }
   ],
   "source": [
    "# training set x\n",
    "# './mnist/d1/d1_0055.png'\n",
    "\n",
    "train_folder1 = 2\n",
    "train_folder2 = 3\n",
    "train_folder = [train_folder1, train_folder2]\n",
    "\n",
    "n_train = 500\n",
    "X_train = np.zeros((784,2*n_train))\n",
    "print(X_train.shape)\n",
    "\n",
    "for i in range(0,n_train):  \n",
    "    path1 = './mnist/'+'d'+str(train_folder[0])+'/'+'d'+str(train_folder[0])+'_'+str(i+1).zfill(4)+'.png'\n",
    "    X_train[:,i] = np.array(imageio.imread(path1)).astype(np.float64).ravel()/255  \n",
    "    path2 = './mnist/'+'d'+str(train_folder[1])+'/'+'d'+str(train_folder[1])+'_'+str(i+1).zfill(4)+'.png'\n",
    "    X_train[:,i+n_train] = np.array(imageio.imread(path2)).astype(np.float64).ravel()/255"
   ]
  },
  {
   "cell_type": "code",
   "execution_count": 31,
   "metadata": {},
   "outputs": [
    {
     "name": "stdout",
     "output_type": "stream",
     "text": [
      "(1, 1000)\n"
     ]
    }
   ],
   "source": [
    "# training set y\n",
    "x1 = np.full(n_train,0)\n",
    "x2 = np.full(n_train,1)\n",
    "Y_train = np.concatenate((x1,x2)).reshape(1,2*n_train)\n",
    "\n",
    "#Y_train = np.concatenate((np.zeros(n_train), np.ones(n_train)))\n",
    "print(Y_train.shape)"
   ]
  },
  {
   "cell_type": "code",
   "execution_count": 32,
   "metadata": {},
   "outputs": [
    {
     "name": "stdout",
     "output_type": "stream",
     "text": [
      "(784, 20)\n"
     ]
    }
   ],
   "source": [
    "# test set x\n",
    "n_test = 10\n",
    "X_test = np.zeros((784,2*n_test))\n",
    "\n",
    "for i in range(0,n_test):\n",
    "    path1 = './mnist/'+'d'+str(train_folder[0])+'/'+'d'+str(train_folder[0])+'_'+str(n_train+i+1).zfill(4)+'.png'\n",
    "    X_test[:,i] = imageio.imread(path1).ravel().astype(np.float64)/255  \n",
    "    path2 = './mnist/'+'d'+str(train_folder[1])+'/'+'d'+str(train_folder[1])+'_'+str(n_train+i+1).zfill(4)+'.png'\n",
    "    X_test[:,i+n_test] = imageio.imread(path2).ravel().astype(np.float64)/255\n",
    "\n",
    "print(X_test.shape)"
   ]
  },
  {
   "cell_type": "code",
   "execution_count": 33,
   "metadata": {},
   "outputs": [
    {
     "name": "stdout",
     "output_type": "stream",
     "text": [
      "[[0 0 0 0 0 0 0 0 0 0 1 1 1 1 1 1 1 1 1 1]]\n"
     ]
    }
   ],
   "source": [
    "# test set y\n",
    "x3 = np.full(n_test,0)\n",
    "x4 = np.full(n_test,1)\n",
    "Y_test = np.concatenate((x3,x4)).reshape(1,2*n_test)\n",
    "print(Y_test)"
   ]
  },
  {
   "cell_type": "markdown",
   "metadata": {},
   "source": [
    "<td bgcolor=orange>平方求和，列相加，开根号  \n",
    "<br> np.expand_dims(X_test[:,i],axis=1)-X_train, broadcasting training matrix subtract vector \n",
    "<br> np.sum(matrix,axis=0) 每列相加"
   ]
  },
  {
   "cell_type": "code",
   "execution_count": 44,
   "metadata": {
    "scrolled": true
   },
   "outputs": [
    {
     "name": "stdout",
     "output_type": "stream",
     "text": [
      "(20, 1000)\n",
      "(20, 20)\n",
      "[0.   0.   0.3  0.05 0.1  0.   0.3  0.   0.15 0.1  1.   1.   1.   1.\n",
      " 1.   0.75 0.95 1.   1.   0.9 ]\n",
      "[[0 0 0 0 0 0 0 0 0 0 1 1 1 1 1 1 1 1 1 1]]\n",
      "[0. 0. 0. 0. 0. 0. 0. 0. 0. 0. 1. 1. 1. 1. 1. 1. 1. 1. 1. 1.]\n"
     ]
    }
   ],
   "source": [
    "#for i in range (0,2*n_test)\n",
    "#    ForNorm = np.linalg.norm(,'fro')\n",
    "#D[i,:] = np.sqrt(np.sum((np.expand_dims(X_test[:,i], axis=1) - X_train) ** 2, axis=0))\n",
    "\n",
    "D = np.zeros((2*n_test,2*n_train))\n",
    "for i in range(0,2*n_test):   \n",
    "    D[i,:] =np.sqrt(np.sum((np.expand_dims(X_test[:,i],axis=1)-X_train)**2, axis=0))   #平方求和，列相加，开根号  \n",
    "                                                                                       #np.expand_dims(X_test[:,i],axis=1)-X_train, broadcasting training matrix subtract vector \n",
    "                                                                                       # np.sum(matrix,axis=0) 每列相加\n",
    "print(D.shape)\n",
    "\n",
    "n_NN = 20\n",
    "NN = np.argsort(D,axis=1)      #axis=1 行方向排序返回index\n",
    "\n",
    "NN  = NN[:,0:n_NN]\n",
    "print(NN.shape)\n",
    "prediction = np.sum(Y_train[0,NN],axis=1)/n_NN\n",
    "print(prediction)\n",
    "prediction[prediction<=0.5] = 0\n",
    "prediction[prediction>0.5] = 1\n",
    "print(Y_test)\n",
    "print(prediction)"
   ]
  }
 ],
 "metadata": {
  "kernelspec": {
   "display_name": "Python 3",
   "language": "python",
   "name": "python3"
  },
  "language_info": {
   "codemirror_mode": {
    "name": "ipython",
    "version": 3
   },
   "file_extension": ".py",
   "mimetype": "text/x-python",
   "name": "python",
   "nbconvert_exporter": "python",
   "pygments_lexer": "ipython3",
   "version": "3.7.3"
  }
 },
 "nbformat": 4,
 "nbformat_minor": 2
}
