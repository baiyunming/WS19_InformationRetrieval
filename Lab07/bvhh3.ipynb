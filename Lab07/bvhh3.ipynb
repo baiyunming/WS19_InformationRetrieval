{
 "cells": [
  {
   "cell_type": "markdown",
   "metadata": {},
   "source": [
    "# CVXOPT"
   ]
  },
  {
   "cell_type": "markdown",
   "metadata": {},
   "source": [
    "## Task 1\n",
    "Machine Learning tasks are typically thought of optimization problems, e.g. minimizing an error function or maximizing a probability. Ideally, the optimization problem turns out to be convex, which implies that any local minimum is the global minimum of the formulation, and what is even more important, we can.  In the following, it will be assumed that you have some basic knowledge about convex optimization. The intention of this task is to familiarize ourselves with CVXOPT, one of the most-widely used convex optimization toolboxes."
   ]
  },
  {
   "cell_type": "markdown",
   "metadata": {},
   "source": [
    "a)  Go to `cvxopt.org` and follow the installation instructions for your distribution. For conda, you need to run\n",
    "`conda install -c conda-forge cvxopt`"
   ]
  },
  {
   "cell_type": "markdown",
   "metadata": {},
   "source": [
    "b) Skim through the **Examples** section on `cvxopt.org` to get an overview of the functionality of the different solvers of CVXOPT."
   ]
  },
  {
   "cell_type": "code",
   "execution_count": 1,
   "metadata": {},
   "outputs": [],
   "source": [
    "from cvxopt import matrix, solvers\n",
    "import numpy as np"
   ]
  },
  {
   "cell_type": "markdown",
   "metadata": {},
   "source": [
    "c) Implement a function `minsq` which expects a NumPy array `A` of shape `(m,n)` and a NumPy array `y` of shape `(m,)` as its arguments and returns a NumPy array `x` of shape `(n,)` that solves the following problem.\n",
    "\n",
    "<center>$\\mathrm{min_\\mathbf{x}} \\|\\mathbf A\\mathbf{x}-\\mathbf{y}\\|$.</center>\n",
    "\n",
    "Test your function by feeding it with appropriate inputs and comparing the results with the ones you get by using `np.linalg.pinv`. Experiment by adding white Gaussian noise to `y`. If CVXOPT does not accept your NumPy arrays, try casting them to `double`."
   ]
  },
  {
   "cell_type": "code",
   "execution_count": 4,
   "metadata": {},
   "outputs": [
    {
     "name": "stdout",
     "output_type": "stream",
     "text": [
      "A: [[ 10  40]\n",
      " [ 20   0]\n",
      " [-30  40]]\n",
      "y: [50.45325438 20.89411273  8.65661165]\n",
      "x: [1.04484592 1.00008481]\n",
      "np.dot(pinv(A),y): [1.04484592 1.00008481]\n"
     ]
    }
   ],
   "source": [
    "def minsq(A, y):\n",
    "    P=matrix(np.dot(A.T,A).astype('double'))\n",
    "    q=matrix(-np.dot(A.T,y).astype('double'))\n",
    "    x=solvers.qp(P,q)\n",
    "    return np.array(x['x'])\n",
    "\n",
    "A=np.array([[10, 40],[20, 0],[-30, 40]])\n",
    "y=np.array([50,20,10])+np.random.randn(3,)\n",
    "\n",
    "print('A:', A)\n",
    "print('y:', y)\n",
    "print('x:', minsq(A,y).squeeze())\n",
    "print('np.dot(pinv(A),y):', np.dot(np.linalg.pinv(A),y))"
   ]
  },
  {
   "cell_type": "code",
   "execution_count": null,
   "metadata": {},
   "outputs": [],
   "source": []
  }
 ],
 "metadata": {
  "kernelspec": {
   "display_name": "Python 3",
   "language": "python",
   "name": "python3"
  },
  "language_info": {
   "codemirror_mode": {
    "name": "ipython",
    "version": 3
   },
   "file_extension": ".py",
   "mimetype": "text/x-python",
   "name": "python",
   "nbconvert_exporter": "python",
   "pygments_lexer": "ipython3",
   "version": "3.7.3"
  }
 },
 "nbformat": 4,
 "nbformat_minor": 2
}
